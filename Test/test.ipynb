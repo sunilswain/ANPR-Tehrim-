{
 "cells": [
  {
   "cell_type": "code",
   "execution_count": 9,
   "metadata": {},
   "outputs": [],
   "source": [
    "import pandas as pd\n",
    "from sqlalchemy import create_engine, URL, text\n",
    "import json\n",
    "\n",
    "DRIVER = \"{ODBC Driver 17 for SQL Server}\"\n",
    "SERVER = \"mlopserver.database.windows.net\"\n",
    "DATABASE = \"mlops\"\n",
    "USERNAME = \"mlopsadmin\"\n",
    "PASSWORD = \"E$$pl@1234#\"\n",
    "\n",
    "connection_string = f\"Driver={DRIVER};Server={SERVER};Database={DATABASE};uid={USERNAME};pwd={PASSWORD}\"\n",
    "\n",
    "connection_url = URL.create('mssql+pyodbc', query={\"odbc_connect\":connection_string})\n",
    "\n",
    "engine = create_engine(connection_url)\n",
    "\n",
    "QUERY_STRING = \"\"\"SELECT e.EmployeeID, e.EmployeeName, v.Vehicle_Number, v.Model_Name\n",
    "FROM Employees e JOIN Vehicle_Information v\n",
    "ON e.EmployeeID = v.EmployeeID\"\"\"\n",
    "\n",
    "# df = pd.read_sql_table('PlateDetails', engine)\n",
    "df = pd.read_sql_query(QUERY_STRING, engine)\n"
   ]
  },
  {
   "cell_type": "code",
   "execution_count": 8,
   "metadata": {},
   "outputs": [
    {
     "data": {
      "text/html": [
       "<div>\n",
       "<style scoped>\n",
       "    .dataframe tbody tr th:only-of-type {\n",
       "        vertical-align: middle;\n",
       "    }\n",
       "\n",
       "    .dataframe tbody tr th {\n",
       "        vertical-align: top;\n",
       "    }\n",
       "\n",
       "    .dataframe thead th {\n",
       "        text-align: right;\n",
       "    }\n",
       "</style>\n",
       "<table border=\"1\" class=\"dataframe\">\n",
       "  <thead>\n",
       "    <tr style=\"text-align: right;\">\n",
       "      <th></th>\n",
       "      <th>EmployeeID</th>\n",
       "      <th>EmployeeName</th>\n",
       "      <th>Vehicle_Number</th>\n",
       "      <th>Model_Name</th>\n",
       "    </tr>\n",
       "  </thead>\n",
       "  <tbody>\n",
       "    <tr>\n",
       "      <th>0</th>\n",
       "      <td>SD0478</td>\n",
       "      <td>Tridip Mahapatra</td>\n",
       "      <td>OD02CF3697</td>\n",
       "      <td>MAHINDRA XUV 300</td>\n",
       "    </tr>\n",
       "    <tr>\n",
       "      <th>1</th>\n",
       "      <td>SD1293</td>\n",
       "      <td>Ritish Ghadai</td>\n",
       "      <td>OD14G0818</td>\n",
       "      <td>Honda Activa</td>\n",
       "    </tr>\n",
       "    <tr>\n",
       "      <th>2</th>\n",
       "      <td>SD0953</td>\n",
       "      <td>Saroj Pradhan</td>\n",
       "      <td>OD33AJ3073</td>\n",
       "      <td>TATA Harrier</td>\n",
       "    </tr>\n",
       "    <tr>\n",
       "      <th>3</th>\n",
       "      <td>SD1304</td>\n",
       "      <td>Sunil Swain</td>\n",
       "      <td>OD33J6461</td>\n",
       "      <td>KTM RC 200</td>\n",
       "    </tr>\n",
       "  </tbody>\n",
       "</table>\n",
       "</div>"
      ],
      "text/plain": [
       "  EmployeeID      EmployeeName Vehicle_Number        Model_Name\n",
       "0     SD0478  Tridip Mahapatra     OD02CF3697  MAHINDRA XUV 300\n",
       "1     SD1293     Ritish Ghadai      OD14G0818      Honda Activa\n",
       "2     SD0953     Saroj Pradhan     OD33AJ3073      TATA Harrier\n",
       "3     SD1304       Sunil Swain      OD33J6461        KTM RC 200"
      ]
     },
     "execution_count": 8,
     "metadata": {},
     "output_type": "execute_result"
    }
   ],
   "source": [
    "df"
   ]
  },
  {
   "cell_type": "code",
   "execution_count": 10,
   "metadata": {},
   "outputs": [
    {
     "name": "stdout",
     "output_type": "stream",
     "text": [
      "1\n"
     ]
    }
   ],
   "source": [
    "status = 'NOT DETECTED'\n",
    "\n",
    "INSERT_STRING = text(\"INSERT INTO ANPR_Transaction(anpr_status) VALUES(:status)\")\n",
    "values = {'status': status}\n",
    "# print(status)\n",
    "with engine.connect() as conn:\n",
    "    print('1')\n",
    "    conn.execute(INSERT_STRING, values)"
   ]
  },
  {
   "cell_type": "code",
   "execution_count": 6,
   "metadata": {},
   "outputs": [
    {
     "name": "stdout",
     "output_type": "stream",
     "text": [
      "{'EmployeeID': 'SD0478', 'EmployeeName': 'Tridip Mahapatra', 'Model_Name': 'MAHINDRA XUV 300'}\n"
     ]
    }
   ],
   "source": [
    "print(df.loc[df['Vehicle_Number']==\"OD02CF3697\"\n",
    "][['EmployeeID', 'EmployeeName', 'Model_Name']].to_dict(orient='records')[0])"
   ]
  }
 ],
 "metadata": {
  "kernelspec": {
   "display_name": "ANPRWeb",
   "language": "python",
   "name": "python3"
  },
  "language_info": {
   "codemirror_mode": {
    "name": "ipython",
    "version": 3
   },
   "file_extension": ".py",
   "mimetype": "text/x-python",
   "name": "python",
   "nbconvert_exporter": "python",
   "pygments_lexer": "ipython3",
   "version": "3.10.2"
  },
  "orig_nbformat": 4
 },
 "nbformat": 4,
 "nbformat_minor": 2
}
